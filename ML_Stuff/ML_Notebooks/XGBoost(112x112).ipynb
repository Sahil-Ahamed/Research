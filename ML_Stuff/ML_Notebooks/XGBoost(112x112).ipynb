{
 "cells": [
  {
   "cell_type": "code",
   "execution_count": 27,
   "id": "a7e7c181-f15d-43f5-b20d-964a46e0053e",
   "metadata": {},
   "outputs": [],
   "source": [
    "import pandas as pd\n",
    "import numpy as np\n",
    "import matplotlib.pyplot as plt\n",
    "import seaborn as sns"
   ]
  },
  {
   "cell_type": "code",
   "execution_count": 28,
   "id": "6ba34819-410a-4c64-8e4d-f409c8dec484",
   "metadata": {},
   "outputs": [],
   "source": [
    "df = pd.read_csv('features_112x112.csv')"
   ]
  },
  {
   "cell_type": "code",
   "execution_count": 29,
   "id": "230e09dc-8f41-4ddd-a758-a773e1223391",
   "metadata": {},
   "outputs": [
    {
     "data": {
      "text/html": [
       "<div>\n",
       "<style scoped>\n",
       "    .dataframe tbody tr th:only-of-type {\n",
       "        vertical-align: middle;\n",
       "    }\n",
       "\n",
       "    .dataframe tbody tr th {\n",
       "        vertical-align: top;\n",
       "    }\n",
       "\n",
       "    .dataframe thead th {\n",
       "        text-align: right;\n",
       "    }\n",
       "</style>\n",
       "<table border=\"1\" class=\"dataframe\">\n",
       "  <thead>\n",
       "    <tr style=\"text-align: right;\">\n",
       "      <th></th>\n",
       "      <th>f0</th>\n",
       "      <th>f1</th>\n",
       "      <th>f2</th>\n",
       "      <th>f3</th>\n",
       "      <th>f4</th>\n",
       "      <th>f5</th>\n",
       "      <th>f6</th>\n",
       "      <th>f7</th>\n",
       "      <th>f8</th>\n",
       "      <th>f9</th>\n",
       "      <th>...</th>\n",
       "      <th>f12535</th>\n",
       "      <th>f12536</th>\n",
       "      <th>f12537</th>\n",
       "      <th>f12538</th>\n",
       "      <th>f12539</th>\n",
       "      <th>f12540</th>\n",
       "      <th>f12541</th>\n",
       "      <th>f12542</th>\n",
       "      <th>f12543</th>\n",
       "      <th>label</th>\n",
       "    </tr>\n",
       "  </thead>\n",
       "  <tbody>\n",
       "    <tr>\n",
       "      <th>0</th>\n",
       "      <td>0.498039</td>\n",
       "      <td>0.450980</td>\n",
       "      <td>0.478431</td>\n",
       "      <td>0.462745</td>\n",
       "      <td>0.454902</td>\n",
       "      <td>0.501961</td>\n",
       "      <td>0.431373</td>\n",
       "      <td>0.431373</td>\n",
       "      <td>0.392157</td>\n",
       "      <td>0.388235</td>\n",
       "      <td>...</td>\n",
       "      <td>0.219608</td>\n",
       "      <td>0.211765</td>\n",
       "      <td>0.149020</td>\n",
       "      <td>0.141176</td>\n",
       "      <td>0.141176</td>\n",
       "      <td>0.137255</td>\n",
       "      <td>0.137255</td>\n",
       "      <td>0.137255</td>\n",
       "      <td>0.211765</td>\n",
       "      <td>0</td>\n",
       "    </tr>\n",
       "    <tr>\n",
       "      <th>1</th>\n",
       "      <td>0.168627</td>\n",
       "      <td>0.164706</td>\n",
       "      <td>0.121569</td>\n",
       "      <td>0.121569</td>\n",
       "      <td>0.117647</td>\n",
       "      <td>0.117647</td>\n",
       "      <td>0.113725</td>\n",
       "      <td>0.113725</td>\n",
       "      <td>0.109804</td>\n",
       "      <td>0.109804</td>\n",
       "      <td>...</td>\n",
       "      <td>0.494118</td>\n",
       "      <td>0.356863</td>\n",
       "      <td>0.447059</td>\n",
       "      <td>0.454902</td>\n",
       "      <td>0.462745</td>\n",
       "      <td>0.466667</td>\n",
       "      <td>0.470588</td>\n",
       "      <td>0.474510</td>\n",
       "      <td>0.474510</td>\n",
       "      <td>0</td>\n",
       "    </tr>\n",
       "    <tr>\n",
       "      <th>2</th>\n",
       "      <td>0.211765</td>\n",
       "      <td>0.137255</td>\n",
       "      <td>0.137255</td>\n",
       "      <td>0.137255</td>\n",
       "      <td>0.141176</td>\n",
       "      <td>0.141176</td>\n",
       "      <td>0.149020</td>\n",
       "      <td>0.211765</td>\n",
       "      <td>0.219608</td>\n",
       "      <td>0.141176</td>\n",
       "      <td>...</td>\n",
       "      <td>0.392157</td>\n",
       "      <td>0.431373</td>\n",
       "      <td>0.431373</td>\n",
       "      <td>0.501961</td>\n",
       "      <td>0.454902</td>\n",
       "      <td>0.462745</td>\n",
       "      <td>0.478431</td>\n",
       "      <td>0.450980</td>\n",
       "      <td>0.498039</td>\n",
       "      <td>0</td>\n",
       "    </tr>\n",
       "    <tr>\n",
       "      <th>3</th>\n",
       "      <td>0.474510</td>\n",
       "      <td>0.474510</td>\n",
       "      <td>0.470588</td>\n",
       "      <td>0.466667</td>\n",
       "      <td>0.462745</td>\n",
       "      <td>0.454902</td>\n",
       "      <td>0.447059</td>\n",
       "      <td>0.356863</td>\n",
       "      <td>0.494118</td>\n",
       "      <td>0.333333</td>\n",
       "      <td>...</td>\n",
       "      <td>0.109804</td>\n",
       "      <td>0.113725</td>\n",
       "      <td>0.113725</td>\n",
       "      <td>0.117647</td>\n",
       "      <td>0.117647</td>\n",
       "      <td>0.121569</td>\n",
       "      <td>0.121569</td>\n",
       "      <td>0.164706</td>\n",
       "      <td>0.168627</td>\n",
       "      <td>0</td>\n",
       "    </tr>\n",
       "    <tr>\n",
       "      <th>4</th>\n",
       "      <td>0.474510</td>\n",
       "      <td>0.490196</td>\n",
       "      <td>0.458824</td>\n",
       "      <td>0.513726</td>\n",
       "      <td>0.474510</td>\n",
       "      <td>0.490196</td>\n",
       "      <td>0.458824</td>\n",
       "      <td>0.513726</td>\n",
       "      <td>0.474510</td>\n",
       "      <td>0.490196</td>\n",
       "      <td>...</td>\n",
       "      <td>0.172549</td>\n",
       "      <td>0.176471</td>\n",
       "      <td>0.133333</td>\n",
       "      <td>0.125490</td>\n",
       "      <td>0.125490</td>\n",
       "      <td>0.133333</td>\n",
       "      <td>0.125490</td>\n",
       "      <td>0.129412</td>\n",
       "      <td>0.168627</td>\n",
       "      <td>0</td>\n",
       "    </tr>\n",
       "    <tr>\n",
       "      <th>...</th>\n",
       "      <td>...</td>\n",
       "      <td>...</td>\n",
       "      <td>...</td>\n",
       "      <td>...</td>\n",
       "      <td>...</td>\n",
       "      <td>...</td>\n",
       "      <td>...</td>\n",
       "      <td>...</td>\n",
       "      <td>...</td>\n",
       "      <td>...</td>\n",
       "      <td>...</td>\n",
       "      <td>...</td>\n",
       "      <td>...</td>\n",
       "      <td>...</td>\n",
       "      <td>...</td>\n",
       "      <td>...</td>\n",
       "      <td>...</td>\n",
       "      <td>...</td>\n",
       "      <td>...</td>\n",
       "      <td>...</td>\n",
       "      <td>...</td>\n",
       "    </tr>\n",
       "    <tr>\n",
       "      <th>315</th>\n",
       "      <td>0.486275</td>\n",
       "      <td>0.486275</td>\n",
       "      <td>0.482353</td>\n",
       "      <td>0.478431</td>\n",
       "      <td>0.474510</td>\n",
       "      <td>0.466667</td>\n",
       "      <td>0.458824</td>\n",
       "      <td>0.360784</td>\n",
       "      <td>0.501961</td>\n",
       "      <td>0.337255</td>\n",
       "      <td>...</td>\n",
       "      <td>0.113725</td>\n",
       "      <td>0.113725</td>\n",
       "      <td>0.113725</td>\n",
       "      <td>0.117647</td>\n",
       "      <td>0.117647</td>\n",
       "      <td>0.121569</td>\n",
       "      <td>0.121569</td>\n",
       "      <td>0.168627</td>\n",
       "      <td>0.172549</td>\n",
       "      <td>1</td>\n",
       "    </tr>\n",
       "    <tr>\n",
       "      <th>316</th>\n",
       "      <td>0.486275</td>\n",
       "      <td>0.505882</td>\n",
       "      <td>0.470588</td>\n",
       "      <td>0.529412</td>\n",
       "      <td>0.486275</td>\n",
       "      <td>0.505882</td>\n",
       "      <td>0.470588</td>\n",
       "      <td>0.529412</td>\n",
       "      <td>0.486275</td>\n",
       "      <td>0.505882</td>\n",
       "      <td>...</td>\n",
       "      <td>0.176471</td>\n",
       "      <td>0.180392</td>\n",
       "      <td>0.125490</td>\n",
       "      <td>0.133333</td>\n",
       "      <td>0.125490</td>\n",
       "      <td>0.125490</td>\n",
       "      <td>0.125490</td>\n",
       "      <td>0.129412</td>\n",
       "      <td>0.172549</td>\n",
       "      <td>1</td>\n",
       "    </tr>\n",
       "    <tr>\n",
       "      <th>317</th>\n",
       "      <td>0.215686</td>\n",
       "      <td>0.211765</td>\n",
       "      <td>0.207843</td>\n",
       "      <td>0.133333</td>\n",
       "      <td>0.133333</td>\n",
       "      <td>0.129412</td>\n",
       "      <td>0.125490</td>\n",
       "      <td>0.125490</td>\n",
       "      <td>0.121569</td>\n",
       "      <td>0.117647</td>\n",
       "      <td>...</td>\n",
       "      <td>0.345098</td>\n",
       "      <td>0.470588</td>\n",
       "      <td>0.482353</td>\n",
       "      <td>0.494118</td>\n",
       "      <td>0.501961</td>\n",
       "      <td>0.509804</td>\n",
       "      <td>0.513726</td>\n",
       "      <td>0.517647</td>\n",
       "      <td>0.517647</td>\n",
       "      <td>1</td>\n",
       "    </tr>\n",
       "    <tr>\n",
       "      <th>318</th>\n",
       "      <td>0.172549</td>\n",
       "      <td>0.129412</td>\n",
       "      <td>0.125490</td>\n",
       "      <td>0.125490</td>\n",
       "      <td>0.125490</td>\n",
       "      <td>0.133333</td>\n",
       "      <td>0.125490</td>\n",
       "      <td>0.180392</td>\n",
       "      <td>0.176471</td>\n",
       "      <td>0.133333</td>\n",
       "      <td>...</td>\n",
       "      <td>0.486275</td>\n",
       "      <td>0.529412</td>\n",
       "      <td>0.470588</td>\n",
       "      <td>0.505882</td>\n",
       "      <td>0.486275</td>\n",
       "      <td>0.529412</td>\n",
       "      <td>0.470588</td>\n",
       "      <td>0.505882</td>\n",
       "      <td>0.486275</td>\n",
       "      <td>1</td>\n",
       "    </tr>\n",
       "    <tr>\n",
       "      <th>319</th>\n",
       "      <td>0.517647</td>\n",
       "      <td>0.517647</td>\n",
       "      <td>0.513726</td>\n",
       "      <td>0.509804</td>\n",
       "      <td>0.501961</td>\n",
       "      <td>0.494118</td>\n",
       "      <td>0.482353</td>\n",
       "      <td>0.470588</td>\n",
       "      <td>0.345098</td>\n",
       "      <td>0.325490</td>\n",
       "      <td>...</td>\n",
       "      <td>0.121569</td>\n",
       "      <td>0.125490</td>\n",
       "      <td>0.125490</td>\n",
       "      <td>0.129412</td>\n",
       "      <td>0.133333</td>\n",
       "      <td>0.133333</td>\n",
       "      <td>0.207843</td>\n",
       "      <td>0.211765</td>\n",
       "      <td>0.215686</td>\n",
       "      <td>1</td>\n",
       "    </tr>\n",
       "  </tbody>\n",
       "</table>\n",
       "<p>320 rows × 12545 columns</p>\n",
       "</div>"
      ],
      "text/plain": [
       "           f0        f1        f2        f3        f4        f5        f6  \\\n",
       "0    0.498039  0.450980  0.478431  0.462745  0.454902  0.501961  0.431373   \n",
       "1    0.168627  0.164706  0.121569  0.121569  0.117647  0.117647  0.113725   \n",
       "2    0.211765  0.137255  0.137255  0.137255  0.141176  0.141176  0.149020   \n",
       "3    0.474510  0.474510  0.470588  0.466667  0.462745  0.454902  0.447059   \n",
       "4    0.474510  0.490196  0.458824  0.513726  0.474510  0.490196  0.458824   \n",
       "..        ...       ...       ...       ...       ...       ...       ...   \n",
       "315  0.486275  0.486275  0.482353  0.478431  0.474510  0.466667  0.458824   \n",
       "316  0.486275  0.505882  0.470588  0.529412  0.486275  0.505882  0.470588   \n",
       "317  0.215686  0.211765  0.207843  0.133333  0.133333  0.129412  0.125490   \n",
       "318  0.172549  0.129412  0.125490  0.125490  0.125490  0.133333  0.125490   \n",
       "319  0.517647  0.517647  0.513726  0.509804  0.501961  0.494118  0.482353   \n",
       "\n",
       "           f7        f8        f9  ...    f12535    f12536    f12537  \\\n",
       "0    0.431373  0.392157  0.388235  ...  0.219608  0.211765  0.149020   \n",
       "1    0.113725  0.109804  0.109804  ...  0.494118  0.356863  0.447059   \n",
       "2    0.211765  0.219608  0.141176  ...  0.392157  0.431373  0.431373   \n",
       "3    0.356863  0.494118  0.333333  ...  0.109804  0.113725  0.113725   \n",
       "4    0.513726  0.474510  0.490196  ...  0.172549  0.176471  0.133333   \n",
       "..        ...       ...       ...  ...       ...       ...       ...   \n",
       "315  0.360784  0.501961  0.337255  ...  0.113725  0.113725  0.113725   \n",
       "316  0.529412  0.486275  0.505882  ...  0.176471  0.180392  0.125490   \n",
       "317  0.125490  0.121569  0.117647  ...  0.345098  0.470588  0.482353   \n",
       "318  0.180392  0.176471  0.133333  ...  0.486275  0.529412  0.470588   \n",
       "319  0.470588  0.345098  0.325490  ...  0.121569  0.125490  0.125490   \n",
       "\n",
       "       f12538    f12539    f12540    f12541    f12542    f12543  label  \n",
       "0    0.141176  0.141176  0.137255  0.137255  0.137255  0.211765      0  \n",
       "1    0.454902  0.462745  0.466667  0.470588  0.474510  0.474510      0  \n",
       "2    0.501961  0.454902  0.462745  0.478431  0.450980  0.498039      0  \n",
       "3    0.117647  0.117647  0.121569  0.121569  0.164706  0.168627      0  \n",
       "4    0.125490  0.125490  0.133333  0.125490  0.129412  0.168627      0  \n",
       "..        ...       ...       ...       ...       ...       ...    ...  \n",
       "315  0.117647  0.117647  0.121569  0.121569  0.168627  0.172549      1  \n",
       "316  0.133333  0.125490  0.125490  0.125490  0.129412  0.172549      1  \n",
       "317  0.494118  0.501961  0.509804  0.513726  0.517647  0.517647      1  \n",
       "318  0.505882  0.486275  0.529412  0.470588  0.505882  0.486275      1  \n",
       "319  0.129412  0.133333  0.133333  0.207843  0.211765  0.215686      1  \n",
       "\n",
       "[320 rows x 12545 columns]"
      ]
     },
     "execution_count": 29,
     "metadata": {},
     "output_type": "execute_result"
    }
   ],
   "source": [
    "df"
   ]
  },
  {
   "cell_type": "code",
   "execution_count": 30,
   "id": "3d52838e-18bd-451c-9c14-b6c6d97ddd97",
   "metadata": {},
   "outputs": [],
   "source": [
    "X = df.drop(columns=['label'])\n",
    "Y = df['label']"
   ]
  },
  {
   "cell_type": "code",
   "execution_count": 31,
   "id": "38604a03-ab5f-41a3-83fa-19fc0c583b3e",
   "metadata": {},
   "outputs": [],
   "source": [
    "from sklearn.model_selection import train_test_split\n",
    "X_train, X_test, y_train, y_test = train_test_split(X,Y,test_size=0.2, random_state=42)"
   ]
  },
  {
   "cell_type": "code",
   "execution_count": 32,
   "id": "1eec6f7f-7e18-45d7-b289-e0df60a8b466",
   "metadata": {},
   "outputs": [],
   "source": [
    "from sklearn.preprocessing import StandardScaler\n",
    "sc = StandardScaler()\n",
    "X_train_scaled = pd.DataFrame(sc.fit_transform(X_train), columns=X_train.columns)\n",
    "X_test_scaled = pd.DataFrame(sc.fit_transform(X_test), columns=X_test.columns)"
   ]
  },
  {
   "cell_type": "code",
   "execution_count": 33,
   "id": "eb48acca-d81e-4d6a-9cd3-e474b874411e",
   "metadata": {},
   "outputs": [],
   "source": [
    "#Best Params: {'knn__n_neighbors': 3, 'knn__p': 1, 'knn__weights': 'uniform'}, Train Accuracy: 0.8867, Test Accuracy: 0.7656"
   ]
  },
  {
   "cell_type": "code",
   "execution_count": 34,
   "id": "498ddc11-a447-44c2-a930-f1eb84c45bbd",
   "metadata": {},
   "outputs": [],
   "source": [
    "from sklearn.decomposition import PCA\n",
    "pca = PCA(n_components=None)\n",
    "X_train_trf = pca.fit_transform(X_train_scaled)\n",
    "X_test_trf = pca.transform(X_test_scaled)"
   ]
  },
  {
   "cell_type": "code",
   "execution_count": 35,
   "id": "f456193b-2c86-404d-b58f-5887a5ab3390",
   "metadata": {},
   "outputs": [
    {
     "data": {
      "text/plain": [
       "array([0.34362745, 0.6810646 , 0.97198913, 0.98551814, 0.99006965,\n",
       "       0.99449834, 0.99694718, 0.99880786, 0.99885331, 0.9988965 ,\n",
       "       0.99893556, 0.99897041, 0.99899856, 0.99902467, 0.99905031,\n",
       "       0.99907275, 0.99909422, 0.99911463, 0.99913334, 0.99915174,\n",
       "       0.99916895, 0.99918607, 0.99920234, 0.99921825, 0.99923382,\n",
       "       0.99924899, 0.99926412, 0.99927914, 0.9992938 , 0.99930814,\n",
       "       0.99932203, 0.99933577, 0.99934935, 0.99936274, 0.99937582,\n",
       "       0.99938847, 0.99940091, 0.99941249, 0.99942358, 0.99943424,\n",
       "       0.99944459, 0.99945487, 0.99946482, 0.99947451, 0.99948407,\n",
       "       0.99949325, 0.99950218, 0.99951098, 0.99951954, 0.99952787,\n",
       "       0.9995359 , 0.99954382, 0.99955173, 0.99955932, 0.99956672,\n",
       "       0.99957386, 0.99958087, 0.99958772, 0.99959454, 0.99960114,\n",
       "       0.99960761, 0.99961391, 0.99962013, 0.9996263 , 0.9996323 ,\n",
       "       0.99963826, 0.99964411, 0.99964988, 0.9996556 , 0.99966129,\n",
       "       0.99966681, 0.99967228, 0.9996777 , 0.99968303, 0.9996882 ,\n",
       "       0.99969329, 0.99969818, 0.99970304, 0.99970776, 0.99971242,\n",
       "       0.99971702, 0.99972157, 0.99972604, 0.99973045, 0.99973474,\n",
       "       0.99973899, 0.99974319, 0.99974731, 0.99975141, 0.99975549,\n",
       "       0.9997595 , 0.99976348, 0.99976743, 0.99977129, 0.99977513,\n",
       "       0.99977887, 0.99978255, 0.99978616, 0.99978968, 0.99979305,\n",
       "       0.99979635, 0.99979964, 0.9998029 , 0.99980605, 0.99980917,\n",
       "       0.99981227, 0.99981533, 0.99981833, 0.9998213 , 0.99982422,\n",
       "       0.99982711, 0.99982999, 0.99983284, 0.99983566, 0.99983841,\n",
       "       0.99984113, 0.99984379, 0.99984637, 0.99984891, 0.9998514 ,\n",
       "       0.99985389, 0.99985636, 0.99985881, 0.99986121, 0.99986358,\n",
       "       0.99986588, 0.99986817, 0.99987044, 0.99987266, 0.99987486,\n",
       "       0.99987701, 0.99987913, 0.99988124, 0.9998833 , 0.99988533,\n",
       "       0.99988735, 0.99988935, 0.99989135, 0.99989333, 0.9998953 ,\n",
       "       0.99989721, 0.99989911, 0.999901  , 0.99990285, 0.99990468,\n",
       "       0.9999065 , 0.9999083 , 0.99991005, 0.99991179, 0.9999135 ,\n",
       "       0.99991517, 0.99991682, 0.99991845, 0.99992005, 0.99992162,\n",
       "       0.99992316, 0.9999247 , 0.99992621, 0.99992769, 0.99992916,\n",
       "       0.99993059, 0.99993202, 0.99993342, 0.99993479, 0.99993615,\n",
       "       0.99993748, 0.9999388 , 0.99994009, 0.99994137, 0.99994262,\n",
       "       0.99994386, 0.99994507, 0.99994627, 0.99994744, 0.99994858,\n",
       "       0.99994969, 0.99995079, 0.99995186, 0.99995292, 0.99995396,\n",
       "       0.99995499, 0.999956  , 0.99995699, 0.99995797, 0.99995892,\n",
       "       0.99995986, 0.99996079, 0.99996171, 0.99996262, 0.99996352,\n",
       "       0.99996439, 0.99996525, 0.99996611, 0.99996695, 0.99996778,\n",
       "       0.9999686 , 0.99996941, 0.99997022, 0.99997101, 0.99997178,\n",
       "       0.99997254, 0.9999733 , 0.99997404, 0.99997477, 0.99997549,\n",
       "       0.9999762 , 0.99997691, 0.99997761, 0.99997829, 0.99997896,\n",
       "       0.99997963, 0.99998029, 0.99998093, 0.99998156, 0.99998218,\n",
       "       0.99998279, 0.99998339, 0.99998399, 0.99998458, 0.99998516,\n",
       "       0.99998574, 0.99998631, 0.99998687, 0.99998742, 0.99998796,\n",
       "       0.99998849, 0.99998902, 0.99998955, 0.99999006, 0.99999056,\n",
       "       0.99999105, 0.99999153, 0.999992  , 0.99999247, 0.99999293,\n",
       "       0.99999338, 0.99999381, 0.99999422, 0.99999463, 0.99999504,\n",
       "       0.99999543, 0.99999582, 0.9999962 , 0.99999657, 0.99999694,\n",
       "       0.9999973 , 0.99999765, 0.999998  , 0.99999833, 0.99999865,\n",
       "       0.99999896, 0.99999924, 0.9999995 , 0.99999976, 1.        ,\n",
       "       1.        ])"
      ]
     },
     "execution_count": 35,
     "metadata": {},
     "output_type": "execute_result"
    }
   ],
   "source": [
    "np.cumsum(pca.explained_variance_ratio_)"
   ]
  },
  {
   "cell_type": "code",
   "execution_count": 36,
   "id": "bff69355-e866-41a0-abe4-b913b31cdc6a",
   "metadata": {},
   "outputs": [
    {
     "data": {
      "text/plain": [
       "(256,)"
      ]
     },
     "execution_count": 36,
     "metadata": {},
     "output_type": "execute_result"
    }
   ],
   "source": [
    "pca.explained_variance_ratio_.shape"
   ]
  },
  {
   "cell_type": "code",
   "execution_count": 37,
   "id": "9277687c-5408-4e99-aa96-860f131fee55",
   "metadata": {},
   "outputs": [
    {
     "data": {
      "text/plain": [
       "(256, 256)"
      ]
     },
     "execution_count": 37,
     "metadata": {},
     "output_type": "execute_result"
    }
   ],
   "source": [
    "X_train_trf.shape"
   ]
  },
  {
   "cell_type": "code",
   "execution_count": 38,
   "id": "c3c2c8d7-47c6-4bd8-80f1-313eff5d539f",
   "metadata": {},
   "outputs": [
    {
     "data": {
      "text/plain": [
       "(256, 12544)"
      ]
     },
     "execution_count": 38,
     "metadata": {},
     "output_type": "execute_result"
    }
   ],
   "source": [
    "X_train_scaled.shape"
   ]
  },
  {
   "cell_type": "code",
   "execution_count": 39,
   "id": "277b0d75-c01b-40c0-a4b1-0a84b77612f8",
   "metadata": {},
   "outputs": [
    {
     "data": {
      "text/plain": [
       "\"Even though you set n_components=None, PCA cannot return more components than the number of samples. This is due to how PCA works under\\nthe hood — it computes the eigenvectors of the covariance matrix, and that matrix's rank is at most min(n_samples, n_features).\""
      ]
     },
     "execution_count": 39,
     "metadata": {},
     "output_type": "execute_result"
    }
   ],
   "source": [
    "\"\"\"Even though you set n_components=None, PCA cannot return more components than the number of samples. This is due to how PCA works under\n",
    "the hood — it computes the eigenvectors of the covariance matrix, and that matrix's rank is at most min(n_samples, n_features).\"\"\""
   ]
  },
  {
   "cell_type": "code",
   "execution_count": 40,
   "id": "e513de2c-3ad9-4f68-817e-834ccc92d0fb",
   "metadata": {},
   "outputs": [
    {
     "data": {
      "text/plain": [
       "array([0.34362745, 0.6810646 , 0.97198913, 0.98551814, 0.99006965,\n",
       "       0.99449834, 0.99694718, 0.99880786, 0.99885331, 0.9988965 ,\n",
       "       0.99893556, 0.99897041, 0.99899856, 0.99902467, 0.99905031,\n",
       "       0.99907275, 0.99909422, 0.99911463, 0.99913334, 0.99915174,\n",
       "       0.99916895, 0.99918607, 0.99920234, 0.99921825, 0.99923382,\n",
       "       0.99924899, 0.99926412, 0.99927914, 0.9992938 , 0.99930814,\n",
       "       0.99932203, 0.99933577, 0.99934935, 0.99936274, 0.99937582,\n",
       "       0.99938847, 0.99940091, 0.99941249, 0.99942358, 0.99943424,\n",
       "       0.99944459, 0.99945487, 0.99946482, 0.99947451, 0.99948407,\n",
       "       0.99949325, 0.99950218, 0.99951098, 0.99951954, 0.99952787,\n",
       "       0.9995359 , 0.99954382, 0.99955173, 0.99955932, 0.99956672,\n",
       "       0.99957386, 0.99958087, 0.99958772, 0.99959454, 0.99960114,\n",
       "       0.99960761, 0.99961391, 0.99962013, 0.9996263 , 0.9996323 ,\n",
       "       0.99963826, 0.99964411, 0.99964988, 0.9996556 , 0.99966129,\n",
       "       0.99966681, 0.99967228, 0.9996777 , 0.99968303, 0.9996882 ,\n",
       "       0.99969329, 0.99969818, 0.99970304, 0.99970776, 0.99971242,\n",
       "       0.99971702, 0.99972157, 0.99972604, 0.99973045, 0.99973474,\n",
       "       0.99973899, 0.99974319, 0.99974731, 0.99975141, 0.99975549,\n",
       "       0.9997595 , 0.99976348, 0.99976743, 0.99977129, 0.99977513,\n",
       "       0.99977887, 0.99978255, 0.99978616, 0.99978968, 0.99979305,\n",
       "       0.99979635, 0.99979964, 0.9998029 , 0.99980605, 0.99980917,\n",
       "       0.99981227, 0.99981533, 0.99981833, 0.9998213 , 0.99982422,\n",
       "       0.99982711, 0.99982999, 0.99983284, 0.99983566, 0.99983841,\n",
       "       0.99984113, 0.99984379, 0.99984637, 0.99984891, 0.9998514 ,\n",
       "       0.99985389, 0.99985636, 0.99985881, 0.99986121, 0.99986358,\n",
       "       0.99986588, 0.99986817, 0.99987044, 0.99987266, 0.99987486,\n",
       "       0.99987701, 0.99987913, 0.99988124, 0.9998833 , 0.99988533,\n",
       "       0.99988735, 0.99988935, 0.99989135, 0.99989333, 0.9998953 ,\n",
       "       0.99989721, 0.99989911, 0.999901  , 0.99990285, 0.99990468,\n",
       "       0.9999065 , 0.9999083 , 0.99991005, 0.99991179, 0.9999135 ,\n",
       "       0.99991517, 0.99991682, 0.99991845, 0.99992005, 0.99992162,\n",
       "       0.99992316, 0.9999247 , 0.99992621, 0.99992769, 0.99992916,\n",
       "       0.99993059, 0.99993202, 0.99993342, 0.99993479, 0.99993615,\n",
       "       0.99993748, 0.9999388 , 0.99994009, 0.99994137, 0.99994262,\n",
       "       0.99994386, 0.99994507, 0.99994627, 0.99994744, 0.99994858,\n",
       "       0.99994969, 0.99995079, 0.99995186, 0.99995292, 0.99995396,\n",
       "       0.99995499, 0.999956  , 0.99995699, 0.99995797, 0.99995892,\n",
       "       0.99995986, 0.99996079, 0.99996171, 0.99996262, 0.99996352,\n",
       "       0.99996439, 0.99996525, 0.99996611, 0.99996695, 0.99996778,\n",
       "       0.9999686 , 0.99996941, 0.99997022, 0.99997101, 0.99997178,\n",
       "       0.99997254, 0.9999733 , 0.99997404, 0.99997477, 0.99997549,\n",
       "       0.9999762 , 0.99997691, 0.99997761, 0.99997829, 0.99997896,\n",
       "       0.99997963, 0.99998029, 0.99998093, 0.99998156, 0.99998218,\n",
       "       0.99998279, 0.99998339, 0.99998399, 0.99998458, 0.99998516,\n",
       "       0.99998574, 0.99998631, 0.99998687, 0.99998742, 0.99998796,\n",
       "       0.99998849, 0.99998902, 0.99998955, 0.99999006, 0.99999056,\n",
       "       0.99999105, 0.99999153, 0.999992  , 0.99999247, 0.99999293,\n",
       "       0.99999338, 0.99999381, 0.99999422, 0.99999463, 0.99999504,\n",
       "       0.99999543, 0.99999582, 0.9999962 , 0.99999657, 0.99999694,\n",
       "       0.9999973 , 0.99999765, 0.999998  , 0.99999833, 0.99999865,\n",
       "       0.99999896, 0.99999924, 0.9999995 , 0.99999976, 1.        ,\n",
       "       1.        ])"
      ]
     },
     "execution_count": 40,
     "metadata": {},
     "output_type": "execute_result"
    }
   ],
   "source": [
    "np.cumsum(pca.explained_variance_ratio_)"
   ]
  },
  {
   "cell_type": "code",
   "execution_count": 41,
   "id": "b1eb5949-3cdb-4d69-b25f-2438e6f30e6c",
   "metadata": {},
   "outputs": [
    {
     "data": {
      "text/plain": [
       "3"
      ]
     },
     "execution_count": 41,
     "metadata": {},
     "output_type": "execute_result"
    }
   ],
   "source": [
    "np.argmax(np.cumsum(pca.explained_variance_ratio_) >= 0.97) + 1"
   ]
  },
  {
   "cell_type": "code",
   "execution_count": 42,
   "id": "6a275cf8-02bc-456c-82af-df67a42c679a",
   "metadata": {},
   "outputs": [],
   "source": [
    "#Moving forward with 3 components as it explains over 97% variance of the data"
   ]
  },
  {
   "cell_type": "code",
   "execution_count": 43,
   "id": "b8a0e27d-c621-4ba0-9d4c-ced36ac8131c",
   "metadata": {},
   "outputs": [],
   "source": [
    "pca = PCA(n_components=3)\n",
    "X_train_trf = pca.fit_transform(X_train_scaled)\n",
    "X_test_trf = pca.transform(X_test_scaled)"
   ]
  },
  {
   "cell_type": "code",
   "execution_count": 44,
   "id": "2af647c8-433e-47a5-a9d4-8305ed380d46",
   "metadata": {},
   "outputs": [
    {
     "data": {
      "text/plain": [
       "(256, 3)"
      ]
     },
     "execution_count": 44,
     "metadata": {},
     "output_type": "execute_result"
    }
   ],
   "source": [
    "X_train_trf.shape"
   ]
  },
  {
   "cell_type": "code",
   "execution_count": 45,
   "id": "5dffc277-6161-49c1-9179-cdaaff0eeb62",
   "metadata": {},
   "outputs": [
    {
     "data": {
      "text/plain": [
       "(64, 3)"
      ]
     },
     "execution_count": 45,
     "metadata": {},
     "output_type": "execute_result"
    }
   ],
   "source": [
    "X_test_trf.shape"
   ]
  },
  {
   "cell_type": "code",
   "execution_count": 46,
   "id": "78ea5ed9-2c55-4ae1-ae12-ff2e70b4df37",
   "metadata": {},
   "outputs": [
    {
     "name": "stdout",
     "output_type": "stream",
     "text": [
      "XGBoost Model Evaluation:\n",
      "Train Accuracy: 1.0000\n",
      "Test Accuracy: 0.6250\n",
      "Precision: 0.5000\n",
      "Recall: 0.4583\n",
      "F1 Score: 0.4783\n",
      "ROC AUC: 0.6365\n"
     ]
    },
    {
     "data": {
      "image/png": "[encoded data removed]",
      "text/plain": [
       "<Figure size 500x400 with 1 Axes>"
      ]
     },
     "metadata": {},
     "output_type": "display_data"
    }
   ],
   "source": [
    "from sklearn.metrics import (\n",
    "    accuracy_score, precision_score, recall_score, \n",
    "    f1_score, roc_auc_score, confusion_matrix\n",
    ")\n",
    "\n",
    "from xgboost import XGBClassifier\n",
    "model = XGBClassifier(eval_metric='logloss')\n",
    "model.fit(X_train_trf, y_train)\n",
    "\n",
    "# Predictions\n",
    "y_train_pred = model.predict(X_train_trf)\n",
    "y_test_pred = model.predict(X_test_trf)\n",
    "\n",
    "# Evaluation metrics\n",
    "train_acc = accuracy_score(y_train, y_train_pred)\n",
    "test_acc = accuracy_score(y_test, y_test_pred)\n",
    "precision = precision_score(y_test, y_test_pred)\n",
    "recall = recall_score(y_test, y_test_pred)\n",
    "f1 = f1_score(y_test, y_test_pred)\n",
    "\n",
    "# Print results\n",
    "print(\"XGBoost Model Evaluation:\")\n",
    "print(f\"Train Accuracy: {train_acc:.4f}\")\n",
    "print(f\"Test Accuracy: {test_acc:.4f}\")\n",
    "print(f\"Precision: {precision:.4f}\")\n",
    "print(f\"Recall: {recall:.4f}\")\n",
    "print(f\"F1 Score: {f1:.4f}\")\n",
    "print(f\"ROC AUC: {roc_auc:.4f}\")\n",
    "\n",
    "# Confusion Matrix\n",
    "cm = confusion_matrix(y_test, y_test_pred)\n",
    "plt.figure(figsize=(5, 4))\n",
    "sns.heatmap(cm, annot=True, fmt='d', cmap='Blues', cbar=False)\n",
    "plt.title(\"XGBoost - Confusion Matrix\")\n",
    "plt.xlabel(\"Predicted\")\n",
    "plt.ylabel(\"Actual\")\n",
    "plt.tight_layout()\n",
    "plt.show()"
   ]
  },
  {
   "cell_type": "code",
   "execution_count": 50,
   "id": "6c831627-8197-4c69-941b-12ed429cdb08",
   "metadata": {},
   "outputs": [
    {
     "name": "stdout",
     "output_type": "stream",
     "text": [
      "Fitting 5 folds for each of 50 candidates, totalling 250 fits\n",
      "Best Parameters: {'subsample': 1.0, 'scale_pos_weight': 1, 'n_estimators': 200, 'max_depth': 7, 'learning_rate': 0.05, 'gamma': 0.3, 'colsample_bytree': 0.8}\n",
      "\n",
      "Tuned XGBoost Evaluation:\n",
      "Train Accuracy: 0.9102\n",
      "Test Accuracy: 0.6406\n",
      "Precision: 0.5263\n",
      "Recall: 0.4167\n",
      "F1 Score: 0.4651\n"
     ]
    },
    {
     "data": {
      "image/png": "[encoded data removed]",
      "text/plain": [
       "<Figure size 500x400 with 1 Axes>"
      ]
     },
     "metadata": {},
     "output_type": "display_data"
    }
   ],
   "source": [
    "# Import\n",
    "from sklearn.model_selection import RandomizedSearchCV\n",
    "from xgboost import XGBClassifier\n",
    "from sklearn.metrics import make_scorer\n",
    "\n",
    "# Define parameter grid\n",
    "param_dist = {\n",
    "    'n_estimators': [50, 100, 150, 200],\n",
    "    'max_depth': [3, 4, 5, 6, 7],\n",
    "    'learning_rate': [0.01, 0.05, 0.1, 0.2],\n",
    "    'subsample': [0.6, 0.8, 1.0],\n",
    "    'colsample_bytree': [0.6, 0.8, 1.0],\n",
    "    'gamma': [0, 0.1, 0.2, 0.3],\n",
    "    'scale_pos_weight': [1, 2, 3]  # especially useful for imbalanced data\n",
    "}\n",
    "\n",
    "# Define XGBoost model\n",
    "xgb = XGBClassifier(eval_metric='logloss')\n",
    "\n",
    "# Optimize for recall while also balancing accuracy\n",
    "scorer = make_scorer(accuracy_score)\n",
    "\n",
    "# Randomized Search\n",
    "random_search = RandomizedSearchCV(\n",
    "    estimator=xgb,\n",
    "    param_distributions=param_dist,\n",
    "    n_iter=50,\n",
    "    scoring=scorer,\n",
    "    cv=5,\n",
    "    verbose=1,\n",
    "    n_jobs=-1,\n",
    "    random_state=42\n",
    ")\n",
    "\n",
    "# Fit search\n",
    "random_search.fit(X_train_trf, y_train)\n",
    "\n",
    "# Best estimator\n",
    "best_xgb = random_search.best_estimator_\n",
    "print(\"Best Parameters:\", random_search.best_params_)\n",
    "\n",
    "# Predict & Evaluate\n",
    "y_train_pred = best_xgb.predict(X_train_trf)\n",
    "y_test_pred = best_xgb.predict(X_test_trf)\n",
    "\n",
    "train_acc = accuracy_score(y_train, y_train_pred)\n",
    "test_acc = accuracy_score(y_test, y_test_pred)\n",
    "precision = precision_score(y_test, y_test_pred)\n",
    "recall = recall_score(y_test, y_test_pred)\n",
    "f1 = f1_score(y_test, y_test_pred)\n",
    "\n",
    "print(\"\\nTuned XGBoost Evaluation:\")\n",
    "print(f\"Train Accuracy: {train_acc:.4f}\")\n",
    "print(f\"Test Accuracy: {test_acc:.4f}\")\n",
    "print(f\"Precision: {precision:.4f}\")\n",
    "print(f\"Recall: {recall:.4f}\")\n",
    "print(f\"F1 Score: {f1:.4f}\")\n",
    "\n",
    "# Confusion Matrix\n",
    "cm = confusion_matrix(y_test, y_test_pred)\n",
    "plt.figure(figsize=(5, 4))\n",
    "sns.heatmap(cm, annot=True, fmt='d', cmap='Blues', cbar=False)\n",
    "plt.title(\"Tuned XGBoost - Confusion Matrix\")\n",
    "plt.xlabel(\"Predicted\")\n",
    "plt.ylabel(\"Actual\")\n",
    "plt.tight_layout()\n",
    "plt.show()"
   ]
  },
  {
   "cell_type": "code",
   "execution_count": 59,
   "id": "a3ac8fdd-3da0-4860-8d2f-5fbe6410f411",
   "metadata": {},
   "outputs": [
    {
     "name": "stdout",
     "output_type": "stream",
     "text": [
      "\n",
      "Final XGBoost Model (With L1 & L2):\n",
      "Train Accuracy: 0.8555\n",
      "Test Accuracy: 0.6406\n",
      "Precision: 0.5238\n",
      "Recall: 0.4583\n",
      "F1 Score: 0.4889\n",
      "ROC AUC: 0.6214\n"
     ]
    },
    {
     "data": {
      "image/png": "[encoded data removed]",
      "text/plain": [
       "<Figure size 500x400 with 1 Axes>"
      ]
     },
     "metadata": {},
     "output_type": "display_data"
    }
   ],
   "source": [
    "final_model = XGBClassifier(\n",
    "    n_estimators=200,\n",
    "    max_depth=7,\n",
    "    learning_rate=0.05,\n",
    "    subsample=1.0,\n",
    "    colsample_bytree=0.8,\n",
    "    gamma=0.3,\n",
    "    scale_pos_weight=1,\n",
    "    reg_alpha=0.5,   # L1 regularization (try 0.1–1.0)\n",
    "    reg_lambda=2,  # L2 regularization (try 0.1–2.0)\n",
    "    eval_metric='logloss'\n",
    ")\n",
    "final_model.fit(X_train_trf, y_train)\n",
    "\n",
    "# Evaluate\n",
    "y_train_pred = final_model.predict(X_train_trf)\n",
    "y_test_pred = final_model.predict(X_test_trf)\n",
    "y_test_prob = final_model.predict_proba(X_test_trf)[:, 1]\n",
    "\n",
    "train_acc = accuracy_score(y_train, y_train_pred)\n",
    "test_acc = accuracy_score(y_test, y_test_pred)\n",
    "precision = precision_score(y_test, y_test_pred)\n",
    "recall = recall_score(y_test, y_test_pred)\n",
    "f1 = f1_score(y_test, y_test_pred)\n",
    "roc_auc = roc_auc_score(y_test, y_test_prob)\n",
    "\n",
    "print(\"\\nFinal XGBoost Model (With L1 & L2):\")\n",
    "print(f\"Train Accuracy: {train_acc:.4f}\")\n",
    "print(f\"Test Accuracy: {test_acc:.4f}\")\n",
    "print(f\"Precision: {precision:.4f}\")\n",
    "print(f\"Recall: {recall:.4f}\")\n",
    "print(f\"F1 Score: {f1:.4f}\")\n",
    "print(f\"ROC AUC: {roc_auc:.4f}\")\n",
    "\n",
    "\n",
    "cm = confusion_matrix(y_test, y_test_pred)\n",
    "plt.figure(figsize=(5, 4))\n",
    "sns.heatmap(cm, annot=True, fmt='d', cmap='Purples', cbar=False)\n",
    "plt.title(\"Final XGBoost Confusion Matrix (L1 + L2)\")\n",
    "plt.xlabel(\"Predicted\")\n",
    "plt.ylabel(\"Actual\")\n",
    "plt.tight_layout()\n",
    "plt.show()"
   ]
  }
 ],
 "metadata": {
  "kernelspec": {
   "display_name": "Python 3 (ipykernel)",
   "language": "python",
   "name": "python3"
  },
  "language_info": {
   "codemirror_mode": {
    "name": "ipython",
    "version": 3
   },
   "file_extension": ".py",
   "mimetype": "text/x-python",
   "name": "python",
   "nbconvert_exporter": "python",
   "pygments_lexer": "ipython3",
   "version": "3.11.9"
  }
 },
 "nbformat": 4,
 "nbformat_minor": 5
}
